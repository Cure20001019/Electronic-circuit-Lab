{
 "cells": [
  {
   "cell_type": "code",
   "execution_count": 1,
   "metadata": {
    "scrolled": false
   },
   "outputs": [
    {
     "name": "stdout",
     "output_type": "stream",
     "text": [
      "For RD equals to 100:\n",
      "RD||RL is 99.4475138121547\n",
      "Rs1=RD||RL/Gain is 6.2154696132596685\n",
      "\n",
      "\n",
      "For RD equals to 150:\n",
      "RD||RL is 148.7603305785124\n",
      "Rs1=RD||RL/Gain is 9.297520661157025\n",
      "\n",
      "\n",
      "For RD equals to 220:\n",
      "RD||RL is 217.34357848518113\n",
      "Rs1=RD||RL/Gain is 13.58397365532382\n",
      "\n",
      "\n",
      "For RD equals to 390:\n",
      "RD||RL is 381.72920065252856\n",
      "Rs1=RD||RL/Gain is 23.858075040783035\n",
      "\n",
      "\n",
      "For RD equals to 470:\n",
      "RD||RL is 458.040064970222\n",
      "Rs1=RD||RL/Gain is 28.627504060638874\n",
      "\n",
      "\n",
      "For RD equals to 680:\n",
      "RD||RL is 655.2462526766595\n",
      "Rs1=RD||RL/Gain is 40.95289079229122\n",
      "\n",
      "\n",
      "For RD equals to 1000:\n",
      "RD||RL is 947.3684210526316\n",
      "Rs1=RD||RL/Gain is 59.21052631578947\n",
      "\n",
      "\n",
      "For RD equals to 3000:\n",
      "RD||RL is 2571.4285714285716\n",
      "Rs1=RD||RL/Gain is 160.71428571428572\n",
      "\n",
      "\n",
      "For RD equals to 4700:\n",
      "RD||RL is 3726.8722466960353\n",
      "Rs1=RD||RL/Gain is 232.9295154185022\n",
      "\n",
      "\n",
      "For RD equals to 10000:\n",
      "RD||RL is 6428.571428571428\n",
      "Rs1=RD||RL/Gain is 401.7857142857143\n",
      "\n",
      "\n",
      "For RD equals to 15000:\n",
      "RD||RL is 8181.818181818182\n",
      "Rs1=RD||RL/Gain is 511.3636363636364\n",
      "\n",
      "\n",
      "For RD equals to 20000:\n",
      "RD||RL is 9473.684210526315\n",
      "Rs1=RD||RL/Gain is 592.1052631578947\n",
      "\n",
      "\n",
      "For RD equals to 22000:\n",
      "RD||RL is 9900.0\n",
      "Rs1=RD||RL/Gain is 618.75\n",
      "\n",
      "\n",
      "For RD equals to 30000:\n",
      "RD||RL is 11250.0\n",
      "Rs1=RD||RL/Gain is 703.125\n",
      "\n",
      "\n",
      "For RD equals to 39000:\n",
      "RD||RL is 12315.78947368421\n",
      "Rs1=RD||RL/Gain is 769.7368421052631\n",
      "\n",
      "\n",
      "For RD equals to 47000:\n",
      "RD||RL is 13015.384615384615\n",
      "Rs1=RD||RL/Gain is 813.4615384615385\n",
      "\n",
      "\n",
      "For RD equals to 51000:\n",
      "RD||RL is 13304.347826086956\n",
      "Rs1=RD||RL/Gain is 831.5217391304348\n",
      "\n",
      "\n",
      "For RD equals to 100000:\n",
      "RD||RL is 15254.237288135593\n",
      "Rs1=RD||RL/Gain is 953.3898305084746\n",
      "\n",
      "\n",
      "For RD equals to 1000000:\n",
      "RD||RL is 17681.728880157\n",
      "Rs1=RD||RL/Gain is 1105.1080550098\n"
     ]
    }
   ],
   "source": [
    "import numpy as np\n",
    "import math\n",
    "X = [100, 150, 220, 390, 470, 680, 1000, 3000, 4700, 10000, 15000, 20000, 22000, 30000, 39000, 47000, 51000, 100000,1000000]\n",
    "X=np.array(X)\n",
    "n=18\n",
    "Y = np.zeros(n)\n",
    "for i in range(n):\n",
    "    Y[i] = 18000 * X[i]/(18000+X[i])\n",
    "for i in range(n):\n",
    "    print(\"For RD equals to \"+str(X[i])+\":\")\n",
    "    print(\"RD||RL is \"+str(Y[i]))\n",
    "    print(\"Rs1=RD||RL/Gain is \"+str(Y[i]/16))\n",
    "    print(\"\\n\")\n",
    "# the following three lines represent the values calculated for RD=1000kOhm\n",
    "print(\"For RD equals to \"+str(X[n])+\":\")\n",
    "print(\"RD||RL is \"+str(17681.728880157))\n",
    "print(\"Rs1=RD||RL/Gain is \"+str(1105.1080550098))"
   ]
  },
  {
   "cell_type": "code",
   "execution_count": 2,
   "metadata": {},
   "outputs": [
    {
     "name": "stdout",
     "output_type": "stream",
     "text": [
      "f1=@(x)15*x-15+0.41*(sqrt(1/68853.76+1/131.2*(15*x-2.9))-1/262.4)^2*10000-2.9;\n",
      "x=fzero(f1,.3)\n",
      "f2=@(x)15*x-15+0.41*(sqrt(1/92051.55999999998+1/151.7*(15*x-2.9))-1/303.4)^2*10000-2.9;\n",
      "x=fzero(f2,.3)\n",
      "f3=@(x)15*x-15+0.41*(sqrt(1/130176.63999999997+1/180.39999999999998*(15*x-2.9))-1/360.79999999999995)^2*10000-2.9;\n",
      "x=fzero(f3,.3)\n",
      "f4=@(x)15*x-15+0.41*(sqrt(1/250200.03999999998+1/250.1*(15*x-2.9))-1/500.2)^2*10000-2.9;\n",
      "x=fzero(f4,.3)\n",
      "f5=@(x)15*x-15+0.41*(sqrt(1/320129.63999999996+1/282.9*(15*x-2.9))-1/565.8)^2*10000-2.9;\n",
      "x=fzero(f5,.3)\n",
      "f6=@(x)15*x-15+0.41*(sqrt(1/544644.0+1/369.0*(15*x-2.9))-1/738.0)^2*10000-2.9;\n",
      "x=fzero(f6,.3)\n",
      "f7=@(x)15*x-15+0.41*(sqrt(1/1000800.1599999999+1/500.2*(15*x-2.9))-1/1000.4)^2*10000-2.9;\n",
      "x=fzero(f7,.3)\n",
      "f8=@(x)15*x-15+0.41*(sqrt(1/6971712.159999998+1/1320.1999999999998*(15*x-2.9))-1/2640.3999999999996)^2*10000-2.9;\n",
      "x=fzero(f8,.3)\n",
      "f9=@(x)15*x-15+0.41*(sqrt(1/16276383.359999998+1/2017.1999999999998*(15*x-2.9))-1/4034.3999999999996)^2*10000-2.9;\n",
      "x=fzero(f9,.3)\n",
      "f10=@(x)15*x-15+0.41*(sqrt(1/70231104.16+1/4190.2*(15*x-2.9))-1/8380.4)^2*10000-2.9;\n",
      "x=fzero(f10,.3)\n",
      "f11=@(x)15*x-15+0.41*(sqrt(1/155760384.16+1/6240.2*(15*x-2.9))-1/12480.4)^2*10000-2.9;\n",
      "x=fzero(f11,.3)\n",
      "f12=@(x)15*x-15+0.41*(sqrt(1/274909664.1599999+1/8290.199999999999*(15*x-2.9))-1/16580.399999999998)^2*10000-2.9;\n",
      "x=fzero(f12,.3)\n",
      "f13=@(x)15*x-15+0.41*(sqrt(1/331982976.1599999+1/9110.199999999999*(15*x-2.9))-1/18220.399999999998)^2*10000-2.9;\n",
      "x=fzero(f13,.3)\n",
      "f14=@(x)15*x-15+0.41*(sqrt(1/614068224.1599998+1/12390.199999999999*(15*x-2.9))-1/24780.399999999998)^2*10000-2.9;\n",
      "x=fzero(f14,.3)\n",
      "f15=@(x)15*x-15+0.41*(sqrt(1/1034291328.1599998+1/16080.199999999999*(15*x-2.9))-1/32160.399999999998)^2*10000-2.9;\n",
      "x=fzero(f15,.3)\n",
      "f16=@(x)15*x-15+0.41*(sqrt(1/1499269376.1599996+1/19360.199999999997*(15*x-2.9))-1/38720.399999999994)^2*10000-2.9;\n",
      "x=fzero(f16,.3)\n",
      "f17=@(x)15*x-15+0.41*(sqrt(1/1764033600.1599996+1/21000.199999999997*(15*x-2.9))-1/42000.399999999994)^2*10000-2.9;\n",
      "x=fzero(f17,.3)\n",
      "f18=@(x)15*x-15+0.41*(sqrt(1/6753618144.159999+1/41090.2*(15*x-2.9))-1/82180.4)^2*10000-2.9;\n",
      "x=fzero(f18,.3)\n",
      "f19=@(x)15*x-15+0.41*(sqrt(1/672695888544.1598+1/410090.19999999995*(15*x-2.9))-1/820180.3999999999)^2*10000-2.9;\n",
      "x=fzero(f19,.3)\n"
     ]
    }
   ],
   "source": [
    "Z = np.zeros(19)\n",
    "for i in range(19):\n",
    "    Z[i] = 220+X[i]\n",
    "    print(\"f\"+str(i+1)+\"=@(x)15*x-15+0.41*(sqrt(1/\"+str(math.pow(Z[i]*0.82,2))+\"+1/\"+str(Z[i]*0.41)+\"*(15*x-2.9))-1/\"+str(Z[i]*0.82)+\")^2*10000-2.9;\")\n",
    "    print(\"x=fzero(f\"+str(i+1)+\",.3)\")\n",
    "#将需要在MATLAB中执行的命令打印出来，复制粘贴到MATLAB求解"
   ]
  },
  {
   "cell_type": "code",
   "execution_count": 3,
   "metadata": {
    "scrolled": false
   },
   "outputs": [
    {
     "name": "stdout",
     "output_type": "stream",
     "text": [
      "When Rg1=22000Ω and Rg2=20000Ω: 0.5238095238095238\n",
      "When Rg1=51000Ω and Rg2=47000Ω: 0.5204081632653061\n"
     ]
    }
   ],
   "source": [
    "P = np.zeros(306)\n",
    "for i in range(n):\n",
    "    for j in range(n):\n",
    "        P[i] = X[i]/(X[i]+X[j])\n",
    "        if 0.5253>P[i]>0.51:\n",
    "            print(\"When Rg1=\"+str(X[i])+\"Ω and Rg2=\"+str(X[j])+\"Ω: \"+str(P[i]))"
   ]
  },
  {
   "cell_type": "code",
   "execution_count": 4,
   "metadata": {},
   "outputs": [
    {
     "name": "stdout",
     "output_type": "stream",
     "text": [
      "2.999818283245925\n",
      "0.0040851127647671135\n",
      "0.08185099226165841\n",
      "15.840724375144775\n"
     ]
    }
   ],
   "source": [
    "def parallel(r1,r2):\n",
    "    return r1*r2/(r1+r2)\n",
    "\n",
    "R1 = 10\n",
    "Rs1 = 150\n",
    "Rs2 = 150\n",
    "RD = 3000\n",
    "Rg1 = 20000\n",
    "Rg2 = 51000\n",
    "RL = 18000\n",
    "Rs = Rs1 + Rs2\n",
    "V1 = 1/(0.82*Rs)\n",
    "r = Rg1/(Rg1+Rg2)\n",
    "Vth = 2.9\n",
    "Vdd = 15\n",
    "\n",
    "Vgs = -(V1-Vth)+(V1**2+2*V1*(r*Vdd-Vth))**0.5\n",
    "print(Vgs)\n",
    "Id = 0.41*(Vgs-Vth)**2\n",
    "print(Id)\n",
    "gm = 0.82*(Vgs-Vth)\n",
    "print(gm)\n",
    "gain = gm/(gm*Rs1+1) * parallel(RD, RL) * parallel(Rg1,Rg2)/(R1+parallel(Rg1,Rg2))\n",
    "print(gain)"
   ]
  },
  {
   "cell_type": "code",
   "execution_count": null,
   "metadata": {},
   "outputs": [],
   "source": []
  }
 ],
 "metadata": {
  "kernelspec": {
   "display_name": "Python 3 (ipykernel)",
   "language": "python",
   "name": "python3"
  },
  "language_info": {
   "codemirror_mode": {
    "name": "ipython",
    "version": 3
   },
   "file_extension": ".py",
   "mimetype": "text/x-python",
   "name": "python",
   "nbconvert_exporter": "python",
   "pygments_lexer": "ipython3",
   "version": "3.8.10"
  }
 },
 "nbformat": 4,
 "nbformat_minor": 4
}
